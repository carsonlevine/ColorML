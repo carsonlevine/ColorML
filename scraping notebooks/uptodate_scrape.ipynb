{
 "cells": [
  {
   "cell_type": "code",
   "execution_count": 4,
   "id": "6748bc39",
   "metadata": {},
   "outputs": [],
   "source": [
    "import requests\n",
    "url='https://www.uptodate.com/contents/postural-tachycardia-syndrome'\n",
    "response = requests.get(url)"
   ]
  },
  {
   "cell_type": "code",
   "execution_count": 5,
   "id": "dc1f8e35",
   "metadata": {},
   "outputs": [
    {
     "name": "stdout",
     "output_type": "stream",
     "text": [
      "<title>UpToDate</title>\n"
     ]
    }
   ],
   "source": [
    "from bs4 import BeautifulSoup\n",
    "soup = BeautifulSoup(response.text, 'html.parser')\n",
    "print(soup.title)"
   ]
  },
  {
   "cell_type": "code",
   "execution_count": 6,
   "id": "6a68f201",
   "metadata": {},
   "outputs": [
    {
     "name": "stdout",
     "output_type": "stream",
     "text": [
      "<!DOCTYPE html>\n",
      "\n",
      "<html class=\"no-js\" data-ng-app=\"utdApp\" data-ng-class=\"[configCtrl2.ui.fixedHTML,{wkProspect:configCtrl2.isProspectView()}]\" data-ng-controller=\"ConfigController as configCtrl2\" lang=\"{{configCtrl2.ui.defaultPageLang}}\">\n",
      "<head>\n",
      "<title>UpToDate</title>\n",
      "<meta content=\"IE=Edge\" http-equiv=\"X-UA-Compatible\"/>\n",
      "<meta content=\"width=device-width, initial-scale=1.0, maximum-scale=1.0, user-scalable=no\" name=\"viewport\"/>\n",
      "<meta content=\"UpToDate\" name=\"apple-mobile-web-app-title\"/>\n",
      "<meta content=\"telephone=no\" name=\"format-detection\"/>\n",
      "<link href=\"/app/assets/utd-icon.png\" rel=\"apple-touch-icon\"/>\n",
      "<meta content=\"!\" name=\"fragment\"/>\n",
      "<link href=\"{{configCtrl2.info.canonicalUrl}}\" rel=\"canonical\"/>\n",
      "<meta content=\"{{configCtrl2.info.metaDescription}}\" name=\"description\"/>\n",
      "<meta charset=\"utf-8\"/>\n",
      "<style type=\"text/css\">\n",
      "            #appContainer {\n",
      "                position: absolute;\n",
      "                top: 0;\n",
      "                right: 0;\n",
      "                bottom: 0;\n",
      "                left: 0;\n",
      "                background: url(/app/assets/utd-menu/utd-icon.png) no-repeat;\n",
      "                background-attachment: fixed;\n",
      "                background-position: center;\n",
      "                background-size: 48px 48px;\n",
      "            }\n",
      "        </style>\n",
      "<!-- for prerender.io -->\n",
      "<script> window.prerenderReady = false; </script>\n",
      "<script>\n",
      "        (function(i,s,o,g,r,a,m){i['GoogleAnalyticsObject']=r;i[r]=i[r]||function(){\n",
      "        (i[r].q=i[r].q||[]).push(arguments)},i[r].l=1*new Date();a=s.createElement(o),\n",
      "        m=s.getElementsByTagName(o)[0];a.async=1;a.src=g;m.parentNode.insertBefore(a,m)\n",
      "        })(window,document,'script','https://www.google-analytics.com/analytics.js','ga');\n",
      "        </script>\n",
      "<link href=\"/app/utd-all-880eae4f873b03f255bc-1.css\" rel=\"stylesheet\"/>\n",
      "<link href=\"/app/utd-all-880eae4f873b03f255bc-2.css\" rel=\"stylesheet\"/>\n",
      "<link href=\"/app/utd-all-880eae4f873b03f255bc-3.css\" rel=\"stylesheet\"/>\n",
      "<script src=\"/app/dist/pace-b527d53bf7f31f766c14.min.js\"></script>\n",
      "<script src=\"/app/dist/polyfills-3a4ce6e6dd50c6ddb390.min.js\"></script>\n",
      "<style ng-bind=\"configCtrl2.ui.additiveContentCss\" ng-if=\"configCtrl2.ui.additiveContentCss\"></style>\n",
      "<base href=\"/index.html\"/>\n",
      "</head>\n",
      "<body class=\"ngLoading ds1-utd-js\" data-ng-class=\"[configCtrl.browser.name,\n",
      "                          configCtrl.browser.type,\n",
      "                          configCtrl.browser.customVersion,\n",
      "                          configCtrl.browser.os,\n",
      "                          configCtrl.localization.language,\n",
      "                          configCtrl.getTextSize(),\n",
      "                          configCtrl.ui.noHeaderClass,\n",
      "                          configCtrl.ui.fullscreenClass,\n",
      "                          configCtrl.ui.searchbar.autoComplete,\n",
      "                          configCtrl.ui.logo,\n",
      "                          configCtrl.ui.ngLoaded,\n",
      "                          {hasTrialSubscribe: configCtrl.trialState.isEnabled},\n",
      "                          {ModernBrowser: configCtrl.browser.isModern},\n",
      "                          {topicView: configCtrl.ui.isTopicView},\n",
      "                          {myUtdView: configCtrl.ui.isMyUtdView},\n",
      "                          {isHomeSearchEmpty: configCtrl.ui.isHomeSearchEmpty},\n",
      "                          {isLandingHome: configCtrl.ui.isLandingHome},\n",
      "                          {topicPrint: configCtrl.ui.isPrintView},\n",
      "                          {gfxView: configCtrl.ui.isGraphicView},\n",
      "                          {graphicPrint: configCtrl.ui.isPrintGraphic},\n",
      "                          {fullWidth : configCtrl.ui.fullTopicWidth},\n",
      "                          {utdWkHeader : configCtrl.ui.headerRedesign},\n",
      "                          {utdWkTopic : configCtrl.ui.topicRedesign},\n",
      "                          {hasSessionData: configCtrl.ui.hasSessionData},\n",
      "                          {fixedToolbar: configCtrl.ui.isFixedToolbar},\n",
      "                          {hideNavBar : configCtrl.ui.hideNavBar},\n",
      "                          {gdprBanner: configCtrl.ui.isGdprBanner},\n",
      "                          {lockOverflow: configCtrl.ui.lockBodyScroll},\n",
      "                          {mobileonDesktop: configCtrl.browser.isMobileOnDesktop},\n",
      "                          {fixedSidebar: configCtrl.ui.isFixedSidebar},\n",
      "                          {hiddenFooter: configCtrl.ui.isFooterHidden},\n",
      "                          {hasPromo: configCtrl.ui.hasPromoBox},\n",
      "                          {useNotoSans: configCtrl.ui.hasNotoSansFeature},\n",
      "                          {useCollapsibleIndications: configCtrl.ui.hasCollapsibleIndicationsFeature},\n",
      "                          {useCalcOverrides: configCtrl.ui.useCalculatorOverrides},\n",
      "                          {useCalcOverridesMobile: configCtrl.ui.useCalculatorOverridesMobile}]\" data-ng-controller=\"ConfigController as configCtrl\" data-ng-strict-di=\"\">\n",
      "<noscript>It seems to us that you have your JavaScript disabled on your browser. JavaScript is required in order for our site to behave correctly.  Please enable JavaScript to use our site.</noscript>\n",
      "<div id=\"appContainer\" ng-class=\"configCtrl.ui.hideMarketingBanner\" utd-track-click-events=\"\">\n",
      "<div class=\"defaultFocusHidden\" tabindex=\"-1\"></div>\n",
      "<header data-utd-header=\"\" ng-if=\"!configCtrl.ui.headerRedesign\"></header>\n",
      "<header ng-if=\"configCtrl.ui.headerRedesign\" wk-utd-header=\"\"></header>\n",
      "<div data-utd-loading-widget=\"\"></div>\n",
      "<div id=\"paceHolder\"></div>\n",
      "<div class=\"utd-content-main\" data-ng-class=\"{'hasFewResults' : configCtrl.ui.fewSearchResults,'contentError' : configCtrl.ui.nullSearchResults, 'utdError': configCtrl.ui.errorClass}\" data-ui-view=\"\" id=\"utd-main\"></div>\n",
      "<footer data-ng-if=\"!configCtrl.ui.headerRedesign &amp;&amp; configCtrl.isDesktopView()\" data-utd-footer=\"\" id=\"utdFooter\"></footer>\n",
      "<footer ng-if=\"configCtrl.showWkFooter()\" wk-utd-footer=\"\"></footer>\n",
      "<footer-message><trial-subscribe></trial-subscribe></footer-message>\n",
      "<utd-spinner is-visible=\"configCtrl.spinner.isVisible\"></utd-spinner>\n",
      "</div>\n",
      "<div data-utd-modal-dialog=\"\"></div>\n",
      "<my-utd-dialog></my-utd-dialog>\n",
      "<responsive-myuptodate></responsive-myuptodate>\n",
      "<responsive-notifier></responsive-notifier>\n",
      "<script src=\"/app/dist/angular-f692001d1b6ce810e810.min.js\"></script>\n",
      "<script src=\"/app/dist/vendors-1679613dd9363f7b3e62.min.js\"></script>\n",
      "<script src=\"/app/dist/iscroll-zoom.utd.js\"></script>\n",
      "<script src=\"/app/dist/utd-all-880eae4f873b03f255bc.min.js\"></script>\n",
      "<script src=\"/app/dist/epic-bb35c8cd05d04d564a1e.min.js\"></script>\n",
      "</body>\n",
      "</html>\n",
      "\n"
     ]
    }
   ],
   "source": [
    "print(soup)"
   ]
  },
  {
   "cell_type": "code",
   "execution_count": null,
   "id": "5613aef3",
   "metadata": {},
   "outputs": [],
   "source": [
    "base_url = \"https://www.uptodate.com/contents/\"\n",
    "conditions = [\"postural-tachycardia-syndrome\"]\n"
   ]
  }
 ],
 "metadata": {
  "kernelspec": {
   "display_name": "Python 3",
   "language": "python",
   "name": "python3"
  },
  "language_info": {
   "codemirror_mode": {
    "name": "ipython",
    "version": 3
   },
   "file_extension": ".py",
   "mimetype": "text/x-python",
   "name": "python",
   "nbconvert_exporter": "python",
   "pygments_lexer": "ipython3",
   "version": "3.8.8"
  }
 },
 "nbformat": 4,
 "nbformat_minor": 5
}
