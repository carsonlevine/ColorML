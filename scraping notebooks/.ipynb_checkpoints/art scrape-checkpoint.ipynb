{
 "cells": [
  {
   "cell_type": "code",
   "execution_count": 4,
   "id": "fe06bdfa",
   "metadata": {},
   "outputs": [],
   "source": [
    "import requests\n",
    "# url='https://www.moma.org/collection/terms/abstract-expressionism'\n",
    "url = 'https://www.moma.org/collection/?utf8=%E2%9C%93&q=&classifications=any&date_begin=1900&date_end=2022&with_images=1&page=4&direction=fwd'\n",
    "response = requests.get(url)"
   ]
  },
  {
   "cell_type": "code",
   "execution_count": 5,
   "id": "f4481f42",
   "metadata": {},
   "outputs": [
    {
     "name": "stdout",
     "output_type": "stream",
     "text": [
      "<title>The Collection | MoMA </title>\n"
     ]
    }
   ],
   "source": [
    "from bs4 import BeautifulSoup\n",
    "momasoup = BeautifulSoup(response.text, 'html.parser')\n",
    "print(momasoup.title)"
   ]
  },
  {
   "cell_type": "code",
   "execution_count": 7,
   "id": "ca60fc9b",
   "metadata": {},
   "outputs": [
    {
     "ename": "SyntaxError",
     "evalue": "unexpected EOF while parsing (<ipython-input-7-ceed4919bd2d>, line 2)",
     "output_type": "error",
     "traceback": [
      "\u001b[0;36m  File \u001b[0;32m\"<ipython-input-7-ceed4919bd2d>\"\u001b[0;36m, line \u001b[0;32m2\u001b[0m\n\u001b[0;31m    #     print(item['src'])\u001b[0m\n\u001b[0m                            ^\u001b[0m\n\u001b[0;31mSyntaxError\u001b[0m\u001b[0;31m:\u001b[0m unexpected EOF while parsing\n"
     ]
    }
   ],
   "source": [
    "for item in momasoup.find_all('img'):\n",
    "    print(item['src'])"
   ]
  },
  {
   "cell_type": "code",
   "execution_count": 12,
   "id": "9a8c6e98",
   "metadata": {},
   "outputs": [
    {
     "name": "stdout",
     "output_type": "stream",
     "text": [
      "<title data-reactroot=\"\" data-rh=\"\">Julie Mehretu - 15 Artworks for Sale on Artsy</title>\n"
     ]
    }
   ],
   "source": [
    "url = 'https://www.artsy.net/artist/julie-mehretu/works-for-sale?metric=in'\n",
    "response = requests.get(url)\n",
    "julie_soup = BeautifulSoup(response.text, 'html.parser')\n",
    "print(julie_soup.title)"
   ]
  },
  {
   "cell_type": "code",
   "execution_count": 13,
   "id": "e1d37401",
   "metadata": {},
   "outputs": [
    {
     "name": "stdout",
     "output_type": "stream",
     "text": [
      "https://d7hftxdivxxvm.cloudfront.net?resize_to=fill&width=100&height=100&quality=80&src=https%3A%2F%2Fd32dm0rphc51dk.cloudfront.net%2Fm350fgGreLpekvS8NYqa3A%2Flarge.jpg\n",
      "https://d7hftxdivxxvm.cloudfront.net?resize_to=fill&width=325&height=244&quality=80&src=https%3A%2F%2Fd32dm0rphc51dk.cloudfront.net%2FOS1wdHd6B9g_JMSH-iL5og%2Flarge.jpg\n",
      "https://d7hftxdivxxvm.cloudfront.net?resize_to=fit&src=https%3A%2F%2Fd32dm0rphc51dk.cloudfront.net%2Fb58O-znMEvsK9_DMh3euEg%2Flarge.jpg&width=445&height=373&quality=80\n",
      "https://d7hftxdivxxvm.cloudfront.net?resize_to=fit&src=https%3A%2F%2Fd32dm0rphc51dk.cloudfront.net%2FIhhTovN9zQRBATkScw0mDA%2Flarge.jpg&width=445&height=306&quality=80\n",
      "https://d7hftxdivxxvm.cloudfront.net?resize_to=fit&src=https%3A%2F%2Fd32dm0rphc51dk.cloudfront.net%2FZHzO3L1_7UVg_ufR7CnDLQ%2Flarge.jpg&width=445&height=356&quality=80\n",
      "https://d7hftxdivxxvm.cloudfront.net?resize_to=fit&src=https%3A%2F%2Fd32dm0rphc51dk.cloudfront.net%2FizE0qy-C1BYp1yMronEoGw%2Flarge.jpg&width=445&height=549&quality=80\n",
      "https://d7hftxdivxxvm.cloudfront.net?resize_to=fit&src=https%3A%2F%2Fd32dm0rphc51dk.cloudfront.net%2F_vQ-CM3BYYX_1Nxbsypz4g%2Flarge.jpg&width=445&height=373&quality=80\n",
      "https://d7hftxdivxxvm.cloudfront.net?resize_to=fit&src=https%3A%2F%2Fd32dm0rphc51dk.cloudfront.net%2FYzitl7ZmpuA_dOjEaPEWdQ%2Flarge.jpg&width=445&height=329&quality=80\n",
      "https://d7hftxdivxxvm.cloudfront.net?resize_to=fit&src=https%3A%2F%2Fd32dm0rphc51dk.cloudfront.net%2FxUnq_Q08FyY7jQ8hkWNmkA%2Flarge.jpg&width=445&height=695&quality=80\n",
      "https://d7hftxdivxxvm.cloudfront.net?resize_to=fit&src=https%3A%2F%2Fd32dm0rphc51dk.cloudfront.net%2FjHjiRWdYiLhyfz3ElksscA%2Flarge.jpg&width=445&height=380&quality=80\n",
      "https://d7hftxdivxxvm.cloudfront.net?resize_to=fit&src=https%3A%2F%2Fd32dm0rphc51dk.cloudfront.net%2FVHfdzzYwueYCbKhKZOisDg%2Flarge.jpg&width=445&height=377&quality=80\n",
      "https://d7hftxdivxxvm.cloudfront.net?resize_to=fit&src=https%3A%2F%2Fd32dm0rphc51dk.cloudfront.net%2Fa_gFqgp4KsXfYYIy9tLXcg%2Flarge.jpg&width=445&height=339&quality=80\n",
      "https://d7hftxdivxxvm.cloudfront.net?resize_to=fill&src=https%3A%2F%2Fd32dm0rphc51dk.cloudfront.net%2FtdKHm2Z79aHuf6rAaV1ybw%2Flarge.jpg&width=445&height=445&quality=80\n",
      "https://d7hftxdivxxvm.cloudfront.net?resize_to=fit&src=https%3A%2F%2Fd32dm0rphc51dk.cloudfront.net%2FljOJqedAEblZDxDRuCgsgg%2Flarge.jpg&width=445&height=367&quality=80\n",
      "https://d7hftxdivxxvm.cloudfront.net?resize_to=fit&src=https%3A%2F%2Fd32dm0rphc51dk.cloudfront.net%2FHV7yFVA3uhagLrnsWH2u_w%2Flarge.jpg&width=445&height=347&quality=80\n",
      "https://d7hftxdivxxvm.cloudfront.net?resize_to=fit&src=https%3A%2F%2Fd32dm0rphc51dk.cloudfront.net%2FSH5ScKPRaksGqlx0mbAMyw%2Flarge.jpg&width=445&height=296&quality=80\n",
      "https://d7hftxdivxxvm.cloudfront.net?resize_to=fit&src=https%3A%2F%2Fd32dm0rphc51dk.cloudfront.net%2Fkain7HXikmro_mAxwVHZjw%2Flarge.jpg&width=445&height=342&quality=80\n",
      "https://d7hftxdivxxvm.cloudfront.net?resize_to=fit&src=https%3A%2F%2Fd32dm0rphc51dk.cloudfront.net%2F28FnG5WpKv4wR9TWlYet8Q%2Flarge.jpg&width=445&height=373&quality=80\n",
      "https://d7hftxdivxxvm.cloudfront.net?resize_to=fit&src=https%3A%2F%2Fd32dm0rphc51dk.cloudfront.net%2Fv8pvm7NZQqOPOC7MOdudHQ%2Flarge.jpg&width=445&height=304&quality=80\n",
      "https://d7hftxdivxxvm.cloudfront.net?resize_to=fit&src=https%3A%2F%2Fd32dm0rphc51dk.cloudfront.net%2F-282nl17iCFxDOxfB7fbeA%2Flarge.jpg&width=445&height=373&quality=80\n",
      "https://d7hftxdivxxvm.cloudfront.net?resize_to=fit&src=https%3A%2F%2Fd32dm0rphc51dk.cloudfront.net%2FBXjDMRY909nzfOCCUHb6Kw%2Flarge.jpg&width=445&height=309&quality=80\n",
      "https://d7hftxdivxxvm.cloudfront.net?resize_to=fit&src=https%3A%2F%2Fd32dm0rphc51dk.cloudfront.net%2FgR_OupISEacXE0Rs0ZDupg%2Flarge.jpg&width=445&height=373&quality=80\n",
      "https://d7hftxdivxxvm.cloudfront.net?resize_to=fit&src=https%3A%2F%2Fd32dm0rphc51dk.cloudfront.net%2Fk37267Byz06C0v7cUPTqTQ%2Flarge.jpg&width=445&height=364&quality=80\n",
      "https://d7hftxdivxxvm.cloudfront.net?resize_to=fit&src=https%3A%2F%2Fd32dm0rphc51dk.cloudfront.net%2FNyxhaTnHfOTkGyP8b5VSxg%2Flarge.jpg&width=445&height=329&quality=80\n",
      "https://d7hftxdivxxvm.cloudfront.net?resize_to=fit&src=https%3A%2F%2Fd32dm0rphc51dk.cloudfront.net%2Fm9GUVaAB_JfkrVBqlUzzKQ%2Flarge.jpg&width=445&height=695&quality=80\n",
      "https://d7hftxdivxxvm.cloudfront.net?resize_to=fit&src=https%3A%2F%2Fd32dm0rphc51dk.cloudfront.net%2FsVNWpKNaVEkOP166XXfQ9g%2Flarge.jpg&width=445&height=364&quality=80\n",
      "https://d7hftxdivxxvm.cloudfront.net?resize_to=fit&src=https%3A%2F%2Fd32dm0rphc51dk.cloudfront.net%2FTwn46M_VFtytH7xCujgHDg%2Flarge.jpg&width=445&height=593&quality=80\n",
      "https://d7hftxdivxxvm.cloudfront.net?resize_to=fit&src=https%3A%2F%2Fd32dm0rphc51dk.cloudfront.net%2FMebZHTIjFPeuYLmPjlaIpw%2Flarge.jpg&width=445&height=380&quality=80\n",
      "https://d7hftxdivxxvm.cloudfront.net?resize_to=fit&src=https%3A%2F%2Fd32dm0rphc51dk.cloudfront.net%2Fzk3hRJ4db4A4tZTwPG5DGg%2Flarge.jpg&width=445&height=367&quality=80\n",
      "https://d7hftxdivxxvm.cloudfront.net?resize_to=fit&src=https%3A%2F%2Fd32dm0rphc51dk.cloudfront.net%2F6KEE41vEYG8DO3PZeK-Yzg%2Flarge.jpg&width=445&height=358&quality=80\n",
      "https://d7hftxdivxxvm.cloudfront.net?resize_to=fit&src=https%3A%2F%2Fd32dm0rphc51dk.cloudfront.net%2FeQOQvjWhKhj1IIdA6tEYoA%2Flarge.jpg&width=445&height=570&quality=80\n",
      "https://d7hftxdivxxvm.cloudfront.net?resize_to=fit&src=https%3A%2F%2Fd32dm0rphc51dk.cloudfront.net%2FxQR8fJuBno-qb3U9qnkSlw%2Flarge.jpg&width=445&height=327&quality=80\n",
      "https://d7hftxdivxxvm.cloudfront.net?resize_to=fit&src=https%3A%2F%2Fd32dm0rphc51dk.cloudfront.net%2Fb58O-znMEvsK9_DMh3euEg%2Flarge.jpg&width=445&height=373&quality=80\n",
      "https://d7hftxdivxxvm.cloudfront.net?resize_to=fit&src=https%3A%2F%2Fd32dm0rphc51dk.cloudfront.net%2FIhhTovN9zQRBATkScw0mDA%2Flarge.jpg&width=445&height=306&quality=80\n",
      "https://d7hftxdivxxvm.cloudfront.net?resize_to=fit&src=https%3A%2F%2Fd32dm0rphc51dk.cloudfront.net%2FZHzO3L1_7UVg_ufR7CnDLQ%2Flarge.jpg&width=445&height=356&quality=80\n",
      "https://d7hftxdivxxvm.cloudfront.net?resize_to=fit&src=https%3A%2F%2Fd32dm0rphc51dk.cloudfront.net%2FizE0qy-C1BYp1yMronEoGw%2Flarge.jpg&width=445&height=549&quality=80\n",
      "https://d7hftxdivxxvm.cloudfront.net?resize_to=fit&src=https%3A%2F%2Fd32dm0rphc51dk.cloudfront.net%2F_vQ-CM3BYYX_1Nxbsypz4g%2Flarge.jpg&width=445&height=373&quality=80\n",
      "https://d7hftxdivxxvm.cloudfront.net?resize_to=fit&src=https%3A%2F%2Fd32dm0rphc51dk.cloudfront.net%2FYzitl7ZmpuA_dOjEaPEWdQ%2Flarge.jpg&width=445&height=329&quality=80\n",
      "https://d7hftxdivxxvm.cloudfront.net?resize_to=fit&src=https%3A%2F%2Fd32dm0rphc51dk.cloudfront.net%2FxUnq_Q08FyY7jQ8hkWNmkA%2Flarge.jpg&width=445&height=695&quality=80\n",
      "https://d7hftxdivxxvm.cloudfront.net?resize_to=fit&src=https%3A%2F%2Fd32dm0rphc51dk.cloudfront.net%2FjHjiRWdYiLhyfz3ElksscA%2Flarge.jpg&width=445&height=380&quality=80\n",
      "https://d7hftxdivxxvm.cloudfront.net?resize_to=fit&src=https%3A%2F%2Fd32dm0rphc51dk.cloudfront.net%2FVHfdzzYwueYCbKhKZOisDg%2Flarge.jpg&width=445&height=377&quality=80\n",
      "https://d7hftxdivxxvm.cloudfront.net?resize_to=fit&src=https%3A%2F%2Fd32dm0rphc51dk.cloudfront.net%2Fa_gFqgp4KsXfYYIy9tLXcg%2Flarge.jpg&width=445&height=339&quality=80\n",
      "https://d7hftxdivxxvm.cloudfront.net?resize_to=fill&src=https%3A%2F%2Fd32dm0rphc51dk.cloudfront.net%2FtdKHm2Z79aHuf6rAaV1ybw%2Flarge.jpg&width=445&height=445&quality=80\n",
      "https://d7hftxdivxxvm.cloudfront.net?resize_to=fit&src=https%3A%2F%2Fd32dm0rphc51dk.cloudfront.net%2FljOJqedAEblZDxDRuCgsgg%2Flarge.jpg&width=445&height=367&quality=80\n",
      "https://d7hftxdivxxvm.cloudfront.net?resize_to=fit&src=https%3A%2F%2Fd32dm0rphc51dk.cloudfront.net%2FHV7yFVA3uhagLrnsWH2u_w%2Flarge.jpg&width=445&height=347&quality=80\n",
      "https://d7hftxdivxxvm.cloudfront.net?resize_to=fit&src=https%3A%2F%2Fd32dm0rphc51dk.cloudfront.net%2FSH5ScKPRaksGqlx0mbAMyw%2Flarge.jpg&width=445&height=296&quality=80\n",
      "https://d7hftxdivxxvm.cloudfront.net?resize_to=fit&src=https%3A%2F%2Fd32dm0rphc51dk.cloudfront.net%2Fkain7HXikmro_mAxwVHZjw%2Flarge.jpg&width=445&height=342&quality=80\n",
      "https://d7hftxdivxxvm.cloudfront.net?resize_to=fit&src=https%3A%2F%2Fd32dm0rphc51dk.cloudfront.net%2F28FnG5WpKv4wR9TWlYet8Q%2Flarge.jpg&width=445&height=373&quality=80\n",
      "https://d7hftxdivxxvm.cloudfront.net?resize_to=fit&src=https%3A%2F%2Fd32dm0rphc51dk.cloudfront.net%2Fv8pvm7NZQqOPOC7MOdudHQ%2Flarge.jpg&width=445&height=304&quality=80\n",
      "https://d7hftxdivxxvm.cloudfront.net?resize_to=fit&src=https%3A%2F%2Fd32dm0rphc51dk.cloudfront.net%2F-282nl17iCFxDOxfB7fbeA%2Flarge.jpg&width=445&height=373&quality=80\n",
      "https://d7hftxdivxxvm.cloudfront.net?resize_to=fit&src=https%3A%2F%2Fd32dm0rphc51dk.cloudfront.net%2FBXjDMRY909nzfOCCUHb6Kw%2Flarge.jpg&width=445&height=309&quality=80\n",
      "https://d7hftxdivxxvm.cloudfront.net?resize_to=fit&src=https%3A%2F%2Fd32dm0rphc51dk.cloudfront.net%2FgR_OupISEacXE0Rs0ZDupg%2Flarge.jpg&width=445&height=373&quality=80\n",
      "https://d7hftxdivxxvm.cloudfront.net?resize_to=fit&src=https%3A%2F%2Fd32dm0rphc51dk.cloudfront.net%2Fk37267Byz06C0v7cUPTqTQ%2Flarge.jpg&width=445&height=364&quality=80\n",
      "https://d7hftxdivxxvm.cloudfront.net?resize_to=fit&src=https%3A%2F%2Fd32dm0rphc51dk.cloudfront.net%2FNyxhaTnHfOTkGyP8b5VSxg%2Flarge.jpg&width=445&height=329&quality=80\n",
      "https://d7hftxdivxxvm.cloudfront.net?resize_to=fit&src=https%3A%2F%2Fd32dm0rphc51dk.cloudfront.net%2Fm9GUVaAB_JfkrVBqlUzzKQ%2Flarge.jpg&width=445&height=695&quality=80\n",
      "https://d7hftxdivxxvm.cloudfront.net?resize_to=fit&src=https%3A%2F%2Fd32dm0rphc51dk.cloudfront.net%2FsVNWpKNaVEkOP166XXfQ9g%2Flarge.jpg&width=445&height=364&quality=80\n",
      "https://d7hftxdivxxvm.cloudfront.net?resize_to=fit&src=https%3A%2F%2Fd32dm0rphc51dk.cloudfront.net%2FTwn46M_VFtytH7xCujgHDg%2Flarge.jpg&width=445&height=593&quality=80\n",
      "https://d7hftxdivxxvm.cloudfront.net?resize_to=fit&src=https%3A%2F%2Fd32dm0rphc51dk.cloudfront.net%2FMebZHTIjFPeuYLmPjlaIpw%2Flarge.jpg&width=445&height=380&quality=80\n",
      "https://d7hftxdivxxvm.cloudfront.net?resize_to=fit&src=https%3A%2F%2Fd32dm0rphc51dk.cloudfront.net%2Fzk3hRJ4db4A4tZTwPG5DGg%2Flarge.jpg&width=445&height=367&quality=80\n",
      "https://d7hftxdivxxvm.cloudfront.net?resize_to=fit&src=https%3A%2F%2Fd32dm0rphc51dk.cloudfront.net%2F6KEE41vEYG8DO3PZeK-Yzg%2Flarge.jpg&width=445&height=358&quality=80\n",
      "https://d7hftxdivxxvm.cloudfront.net?resize_to=fit&src=https%3A%2F%2Fd32dm0rphc51dk.cloudfront.net%2FeQOQvjWhKhj1IIdA6tEYoA%2Flarge.jpg&width=445&height=570&quality=80\n",
      "https://d7hftxdivxxvm.cloudfront.net?resize_to=fit&src=https%3A%2F%2Fd32dm0rphc51dk.cloudfront.net%2FxQR8fJuBno-qb3U9qnkSlw%2Flarge.jpg&width=445&height=327&quality=80\n",
      "https://d7hftxdivxxvm.cloudfront.net?resize_to=fit&src=https%3A%2F%2Fd32dm0rphc51dk.cloudfront.net%2Fb58O-znMEvsK9_DMh3euEg%2Flarge.jpg&width=445&height=373&quality=80\n",
      "https://d7hftxdivxxvm.cloudfront.net?resize_to=fit&src=https%3A%2F%2Fd32dm0rphc51dk.cloudfront.net%2F-282nl17iCFxDOxfB7fbeA%2Flarge.jpg&width=445&height=373&quality=80\n",
      "https://d7hftxdivxxvm.cloudfront.net?resize_to=fit&src=https%3A%2F%2Fd32dm0rphc51dk.cloudfront.net%2FgR_OupISEacXE0Rs0ZDupg%2Flarge.jpg&width=445&height=373&quality=80\n",
      "https://d7hftxdivxxvm.cloudfront.net?resize_to=fit&src=https%3A%2F%2Fd32dm0rphc51dk.cloudfront.net%2Fk37267Byz06C0v7cUPTqTQ%2Flarge.jpg&width=445&height=364&quality=80\n",
      "https://d7hftxdivxxvm.cloudfront.net?resize_to=fit&src=https%3A%2F%2Fd32dm0rphc51dk.cloudfront.net%2FxUnq_Q08FyY7jQ8hkWNmkA%2Flarge.jpg&width=445&height=695&quality=80\n",
      "https://d7hftxdivxxvm.cloudfront.net?resize_to=fit&src=https%3A%2F%2Fd32dm0rphc51dk.cloudfront.net%2FVHfdzzYwueYCbKhKZOisDg%2Flarge.jpg&width=445&height=377&quality=80\n",
      "https://d7hftxdivxxvm.cloudfront.net?resize_to=fill&src=https%3A%2F%2Fd32dm0rphc51dk.cloudfront.net%2FtdKHm2Z79aHuf6rAaV1ybw%2Flarge.jpg&width=445&height=445&quality=80\n",
      "https://d7hftxdivxxvm.cloudfront.net?resize_to=fit&src=https%3A%2F%2Fd32dm0rphc51dk.cloudfront.net%2FljOJqedAEblZDxDRuCgsgg%2Flarge.jpg&width=445&height=367&quality=80\n",
      "https://d7hftxdivxxvm.cloudfront.net?resize_to=fit&src=https%3A%2F%2Fd32dm0rphc51dk.cloudfront.net%2FeQOQvjWhKhj1IIdA6tEYoA%2Flarge.jpg&width=445&height=570&quality=80\n",
      "https://d7hftxdivxxvm.cloudfront.net?resize_to=fit&src=https%3A%2F%2Fd32dm0rphc51dk.cloudfront.net%2F28FnG5WpKv4wR9TWlYet8Q%2Flarge.jpg&width=445&height=373&quality=80\n",
      "https://d7hftxdivxxvm.cloudfront.net?resize_to=fit&src=https%3A%2F%2Fd32dm0rphc51dk.cloudfront.net%2FZHzO3L1_7UVg_ufR7CnDLQ%2Flarge.jpg&width=445&height=356&quality=80\n",
      "https://d7hftxdivxxvm.cloudfront.net?resize_to=fit&src=https%3A%2F%2Fd32dm0rphc51dk.cloudfront.net%2FBXjDMRY909nzfOCCUHb6Kw%2Flarge.jpg&width=445&height=309&quality=80\n",
      "https://d7hftxdivxxvm.cloudfront.net?resize_to=fit&src=https%3A%2F%2Fd32dm0rphc51dk.cloudfront.net%2F_vQ-CM3BYYX_1Nxbsypz4g%2Flarge.jpg&width=445&height=373&quality=80\n",
      "https://d7hftxdivxxvm.cloudfront.net?resize_to=fit&src=https%3A%2F%2Fd32dm0rphc51dk.cloudfront.net%2FNyxhaTnHfOTkGyP8b5VSxg%2Flarge.jpg&width=445&height=329&quality=80\n",
      "https://d7hftxdivxxvm.cloudfront.net?resize_to=fit&src=https%3A%2F%2Fd32dm0rphc51dk.cloudfront.net%2FjHjiRWdYiLhyfz3ElksscA%2Flarge.jpg&width=445&height=380&quality=80\n",
      "https://d7hftxdivxxvm.cloudfront.net?resize_to=fit&src=https%3A%2F%2Fd32dm0rphc51dk.cloudfront.net%2FsVNWpKNaVEkOP166XXfQ9g%2Flarge.jpg&width=445&height=364&quality=80\n",
      "https://d7hftxdivxxvm.cloudfront.net?resize_to=fit&src=https%3A%2F%2Fd32dm0rphc51dk.cloudfront.net%2Fa_gFqgp4KsXfYYIy9tLXcg%2Flarge.jpg&width=445&height=339&quality=80\n",
      "https://d7hftxdivxxvm.cloudfront.net?resize_to=fit&src=https%3A%2F%2Fd32dm0rphc51dk.cloudfront.net%2Fzk3hRJ4db4A4tZTwPG5DGg%2Flarge.jpg&width=445&height=367&quality=80\n",
      "https://d7hftxdivxxvm.cloudfront.net?resize_to=fit&src=https%3A%2F%2Fd32dm0rphc51dk.cloudfront.net%2FHV7yFVA3uhagLrnsWH2u_w%2Flarge.jpg&width=445&height=347&quality=80\n",
      "https://d7hftxdivxxvm.cloudfront.net?resize_to=fit&src=https%3A%2F%2Fd32dm0rphc51dk.cloudfront.net%2Fkain7HXikmro_mAxwVHZjw%2Flarge.jpg&width=445&height=342&quality=80\n",
      "https://d7hftxdivxxvm.cloudfront.net?resize_to=fit&src=https%3A%2F%2Fd32dm0rphc51dk.cloudfront.net%2FIhhTovN9zQRBATkScw0mDA%2Flarge.jpg&width=445&height=306&quality=80\n",
      "https://d7hftxdivxxvm.cloudfront.net?resize_to=fit&src=https%3A%2F%2Fd32dm0rphc51dk.cloudfront.net%2Fv8pvm7NZQqOPOC7MOdudHQ%2Flarge.jpg&width=445&height=304&quality=80\n",
      "https://d7hftxdivxxvm.cloudfront.net?resize_to=fit&src=https%3A%2F%2Fd32dm0rphc51dk.cloudfront.net%2FizE0qy-C1BYp1yMronEoGw%2Flarge.jpg&width=445&height=549&quality=80\n",
      "https://d7hftxdivxxvm.cloudfront.net?resize_to=fit&src=https%3A%2F%2Fd32dm0rphc51dk.cloudfront.net%2FYzitl7ZmpuA_dOjEaPEWdQ%2Flarge.jpg&width=445&height=329&quality=80\n",
      "https://d7hftxdivxxvm.cloudfront.net?resize_to=fit&src=https%3A%2F%2Fd32dm0rphc51dk.cloudfront.net%2Fm9GUVaAB_JfkrVBqlUzzKQ%2Flarge.jpg&width=445&height=695&quality=80\n",
      "https://d7hftxdivxxvm.cloudfront.net?resize_to=fit&src=https%3A%2F%2Fd32dm0rphc51dk.cloudfront.net%2FTwn46M_VFtytH7xCujgHDg%2Flarge.jpg&width=445&height=593&quality=80\n",
      "https://d7hftxdivxxvm.cloudfront.net?resize_to=fit&src=https%3A%2F%2Fd32dm0rphc51dk.cloudfront.net%2FMebZHTIjFPeuYLmPjlaIpw%2Flarge.jpg&width=445&height=380&quality=80\n",
      "https://d7hftxdivxxvm.cloudfront.net?resize_to=fit&src=https%3A%2F%2Fd32dm0rphc51dk.cloudfront.net%2F6KEE41vEYG8DO3PZeK-Yzg%2Flarge.jpg&width=445&height=358&quality=80\n",
      "https://d7hftxdivxxvm.cloudfront.net?resize_to=fit&src=https%3A%2F%2Fd32dm0rphc51dk.cloudfront.net%2FSH5ScKPRaksGqlx0mbAMyw%2Flarge.jpg&width=445&height=296&quality=80\n",
      "https://d7hftxdivxxvm.cloudfront.net?resize_to=fit&src=https%3A%2F%2Fd32dm0rphc51dk.cloudfront.net%2FxQR8fJuBno-qb3U9qnkSlw%2Flarge.jpg&width=445&height=327&quality=80\n",
      "https://files.artsy.net/images/download-ios-app.svg\n",
      "https://files.artsy.net/images/download-android-app.svg\n",
      "https://d7hftxdivxxvm.cloudfront.net?resize_to=width&src=https%3A%2F%2Ffiles.artsy.net%2Fimages%2Fartsy_app-download-footer_2x_max.jpg&width=725&quality=50\n",
      "https://d7hftxdivxxvm.cloudfront.net?resize_to=width&src=https%3A%2F%2Ffiles.artsy.net%2Fimages%2Fartsy_app-download-footer_2x_max.jpg&width=1220&quality=50\n"
     ]
    }
   ],
   "source": [
    "for item in julie_soup.find_all('img'):\n",
    "    print(item['src'])"
   ]
  },
  {
   "cell_type": "code",
   "execution_count": 15,
   "id": "15887c6e",
   "metadata": {},
   "outputs": [
    {
     "ename": "SyntaxError",
     "evalue": "EOL while scanning string literal (<ipython-input-15-51d43df2ae7b>, line 1)",
     "output_type": "error",
     "traceback": [
      "\u001b[0;36m  File \u001b[0;32m\"<ipython-input-15-51d43df2ae7b>\"\u001b[0;36m, line \u001b[0;32m1\u001b[0m\n\u001b[0;31m    url = 'https://whitney.org/collection/works?q%5Bhas_image_true%5D=1'\"response = requests.get(url)\u001b[0m\n\u001b[0m                                                                                                     ^\u001b[0m\n\u001b[0;31mSyntaxError\u001b[0m\u001b[0;31m:\u001b[0m EOL while scanning string literal\n"
     ]
    }
   ],
   "source": [
    "url = 'https://whitney.org/collection/works?q%5Bhas_image_true%5D=1'\n",
    "response = requests.get(url)\n",
    "whitney_soup = BeautifulSoup(response.text, 'html.parser')\n",
    "print(whitney_soup.title)\n",
    "for item in whitney_soup.find_all('img'):\n",
    "    print(item['src'])"
   ]
  },
  {
   "cell_type": "code",
   "execution_count": null,
   "id": "b462c4fb",
   "metadata": {},
   "outputs": [],
   "source": []
  }
 ],
 "metadata": {
  "kernelspec": {
   "display_name": "Python 3",
   "language": "python",
   "name": "python3"
  },
  "language_info": {
   "codemirror_mode": {
    "name": "ipython",
    "version": 3
   },
   "file_extension": ".py",
   "mimetype": "text/x-python",
   "name": "python",
   "nbconvert_exporter": "python",
   "pygments_lexer": "ipython3",
   "version": "3.8.8"
  }
 },
 "nbformat": 4,
 "nbformat_minor": 5
}
