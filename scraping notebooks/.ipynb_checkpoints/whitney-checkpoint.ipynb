{
 "cells": [
  {
   "cell_type": "code",
   "execution_count": 5,
   "id": "2868a48c",
   "metadata": {},
   "outputs": [],
   "source": [
    "import requests\n",
    "# url='https://www.moma.org/collection/terms/abstract-expressionism'\n",
    "url = 'https://www.moma.org/collection/?utf8=%E2%9C%93&q=&classifications=any&date_begin=1900&date_end=2022&with_images=1&page=4&direction=fwd'\n",
    "response = requests.get(url)"
   ]
  },
  {
   "cell_type": "code",
   "execution_count": 3,
   "id": "128a7ef5",
   "metadata": {},
   "outputs": [
    {
     "name": "stdout",
     "output_type": "stream",
     "text": [
      "<title>Access denied</title>\n"
     ]
    }
   ],
   "source": [
    "from bs4 import BeautifulSoup\n",
    "momasoup = BeautifulSoup(response.text, 'html.parser')\n",
    "print(momasoup.title)"
   ]
  },
  {
   "cell_type": "code",
   "execution_count": 4,
   "id": "87109cc6",
   "metadata": {},
   "outputs": [
    {
     "name": "stdout",
     "output_type": "stream",
     "text": [
      "<title>Collection | Whitney Museum of American Art</title>\n",
      "https://whitneymedia.org/assets/artwork/65565/T_2021_15.jpeg\n",
      "https://whitneymedia.org/assets/artwork/65159/P_2021_6a-b.jpeg\n",
      "https://whitneymedia.org/assets/artwork/65207/T_2021_620_1.jpeg\n",
      "https://whitneymedia.org/assets/artwork/65017/T_2021_615_1.jpeg\n",
      "https://whitneymedia.org/assets/artwork/63814/T_2020_2updated.jpeg\n",
      "https://whitneymedia.org/assets/artwork/64237/P_2020_25_cropped.jpeg\n",
      "https://whitneymedia.org/assets/artwork/64992/P_2021_7_cropped.jpeg\n",
      "https://whitneymedia.org/assets/artwork/64307/2021_61_cropped.jpeg\n",
      "https://whitneymedia.org/assets/artwork/64233/P_2021_4_cropped.jpeg\n",
      "https://whitneymedia.org/assets/artwork/62059/2019_424_cropped.jpeg\n",
      "https://whitneymedia.org/assets/artwork/61618/2021_10_cropped.jpeg\n",
      "https://whitneymedia.org/assets/artwork/65001/2021_83_cropped.jpeg\n",
      "https://whitneymedia.org/assets/artwork/61585/2021_8_cropped.jpeg\n",
      "https://whitneymedia.org/assets/artwork/64271/T_2021_700_1.jpeg\n",
      "https://whitneymedia.org/assets/artwork/61697/P_2020_5_Cropped.jpeg\n",
      "https://whitneymedia.org/assets/artwork/64272/2021_60a-b_cropped.jpeg\n",
      "https://whitneymedia.org/assets/artwork/63584/T_2020_800_1.jpeg\n",
      "https://whitneymedia.org/assets/artwork/62501/2019_389_cropped.jpeg\n",
      "https://whitneymedia.org/assets/artwork/63300/2020_119_cropped.jpeg\n",
      "https://whitneymedia.org/assets/artwork/63299/2020_120_cropped.jpeg\n",
      "https://whitneymedia.org/assets/artwork/63492/2020_121_cropped.jpeg\n",
      "https://whitneymedia.org/assets/artwork/62848/2020_9_cropped.jpeg\n",
      "https://whitneymedia.org/assets/artwork/61347/2019_306_cropped.jpeg\n",
      "https://whitneymedia.org/assets/artwork/61443/T_2018_110.jpeg\n",
      "https://whitneymedia.org/assets/artwork/60538/2018_201_cropped.jpeg\n",
      "https://whitneymedia.org/assets/artwork/63090/2019_426a-b_cropped.jpeg\n",
      "https://whitneymedia.org/assets/artwork/61588/2019_325_cropped.jpeg\n",
      "https://whitneymedia.org/assets/artwork/60508/2018_178_cropped.jpeg\n",
      "https://whitneymedia.org/assets/artwork/62060/2019_310_cropped.jpeg\n",
      "https://whitneymedia.org/assets/artwork/63599/E_2020_0063_1.jpeg\n"
     ]
    }
   ],
   "source": [
    "# url = 'https://whitney.org/collection/works?q%5Bhas_image_true%5D=1'\n",
    "url = \"https://whitney.org/collection/works?page=1&q%5Bclassification_cont%5D=Paintings&q%5Bhas_image_true%5D=1\"\n",
    "response = requests.get(url)\n",
    "whitney_soup = BeautifulSoup(response.text, 'html.parser')\n",
    "print(whitney_soup.title)\n",
    "for item in whitney_soup.find_all('img'):\n",
    "    print(item['src'])\n",
    "    \n"
   ]
  },
  {
   "cell_type": "code",
   "execution_count": null,
   "id": "28fdea0e",
   "metadata": {},
   "outputs": [
    {
     "name": "stdout",
     "output_type": "stream",
     "text": [
      "page1\n"
     ]
    }
   ],
   "source": [
    "whitneyPaintings = []\n",
    "\n",
    "for i in range(1,77):\n",
    "    url = \"https://whitney.org/collection/works?page=\"+str(i)+\"&q%5Bclassification_cont%5D=Paintings&q%5Bhas_image_true%5D=1\"\n",
    "    response = requests.get(url)\n",
    "    whitney_soup = BeautifulSoup(response.text, 'html.parser')\n",
    "    print(\"page\" + str(i))\n",
    "    for item in whitney_soup.find_all('img'):\n",
    "        whitneyPaintings.append(item['src'])\n",
    "print(whitneyPaintings)"
   ]
  },
  {
   "cell_type": "code",
   "execution_count": 22,
   "id": "47100d0d",
   "metadata": {},
   "outputs": [
    {
     "name": "stdout",
     "output_type": "stream",
     "text": [
      "2255\n"
     ]
    }
   ],
   "source": [
    "print(len(whitneyPaintings))"
   ]
  },
  {
   "cell_type": "code",
   "execution_count": null,
   "id": "03656543",
   "metadata": {},
   "outputs": [],
   "source": []
  }
 ],
 "metadata": {
  "kernelspec": {
   "display_name": "Python 3",
   "language": "python",
   "name": "python3"
  },
  "language_info": {
   "codemirror_mode": {
    "name": "ipython",
    "version": 3
   },
   "file_extension": ".py",
   "mimetype": "text/x-python",
   "name": "python",
   "nbconvert_exporter": "python",
   "pygments_lexer": "ipython3",
   "version": "3.8.8"
  }
 },
 "nbformat": 4,
 "nbformat_minor": 5
}
