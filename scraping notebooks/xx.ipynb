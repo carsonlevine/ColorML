{
 "cells": [
  {
   "cell_type": "code",
   "execution_count": null,
   "id": "ff634ba3",
   "metadata": {},
   "outputs": [],
   "source": [
    "\"https://vshred.com/training-plan/toned-in-90-days/workout/295?ref=training-plan%2Ftoned-in-90-days\""
   ]
  },
  {
   "cell_type": "code",
   "execution_count": 5,
   "id": "c9db92b2",
   "metadata": {},
   "outputs": [
    {
     "name": "stdout",
     "output_type": "stream",
     "text": [
      "<title>Login</title>\n"
     ]
    }
   ],
   "source": [
    "import requests\n",
    "from bs4 import BeautifulSoup\n",
    "url = \"https://vshred.com/training-plan/toned-in-90-days/workout/295?ref=training-plan%2Ftoned-in-90-days\"\n",
    "response = requests.get(url)\n",
    "vince_soup = BeautifulSoup(response.text, 'html.parser')\n",
    "print(vince_soup.title)\n",
    "\n",
    "# vince_soup.find( class_ = \"exercise-name\" )\n",
    "\n",
    "\n",
    "for item in vince_soup.find_all('h4'):\n",
    "    print(item)"
   ]
  },
  {
   "cell_type": "code",
   "execution_count": null,
   "id": "41ac0bef",
   "metadata": {},
   "outputs": [],
   "source": []
  }
 ],
 "metadata": {
  "kernelspec": {
   "display_name": "Python 3",
   "language": "python",
   "name": "python3"
  },
  "language_info": {
   "codemirror_mode": {
    "name": "ipython",
    "version": 3
   },
   "file_extension": ".py",
   "mimetype": "text/x-python",
   "name": "python",
   "nbconvert_exporter": "python",
   "pygments_lexer": "ipython3",
   "version": "3.8.8"
  }
 },
 "nbformat": 4,
 "nbformat_minor": 5
}
