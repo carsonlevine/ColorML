{
 "cells": [
  {
   "cell_type": "code",
   "execution_count": 1,
   "id": "fe06bdfa",
   "metadata": {},
   "outputs": [],
   "source": [
    "import requests\n",
    "# url='https://www.moma.org/collection/terms/abstract-expressionism'\n",
    "url = 'https://www.moma.org/collection/?utf8=%E2%9C%93&q=&classifications=any&date_begin=1900&date_end=2022&with_images=1&page=4&direction=fwd'\n",
    "response = requests.get(url)"
   ]
  },
  {
   "cell_type": "code",
   "execution_count": 2,
   "id": "f4481f42",
   "metadata": {},
   "outputs": [
    {
     "name": "stdout",
     "output_type": "stream",
     "text": [
      "<title>Access denied</title>\n"
     ]
    }
   ],
   "source": [
    "from bs4 import BeautifulSoup\n",
    "momasoup = BeautifulSoup(response.text, 'html.parser')\n",
    "print(momasoup.title)"
   ]
  },
  {
   "cell_type": "code",
   "execution_count": 3,
   "id": "ca60fc9b",
   "metadata": {},
   "outputs": [
    {
     "name": "stdout",
     "output_type": "stream",
     "text": [
      "/cdn-cgi/images/external.png\n",
      "/cdn-cgi/images/external.png\n"
     ]
    }
   ],
   "source": [
    "for item in momasoup.find_all('img'):\n",
    "    print(item['src'])"
   ]
  },
  {
   "cell_type": "code",
   "execution_count": 4,
   "id": "9a8c6e98",
   "metadata": {},
   "outputs": [
    {
     "name": "stdout",
     "output_type": "stream",
     "text": [
      "<title data-reactroot=\"\" data-rh=\"\">Julie Mehretu - 17 Artworks for Sale on Artsy</title>\n"
     ]
    }
   ],
   "source": [
    "url = 'https://www.artsy.net/artist/julie-mehretu/works-for-sale?metric=in'\n",
    "response = requests.get(url)\n",
    "julie_soup = BeautifulSoup(response.text, 'html.parser')\n",
    "print(julie_soup.title)"
   ]
  },
  {
   "cell_type": "code",
   "execution_count": 5,
   "id": "a7cefa0c",
   "metadata": {},
   "outputs": [
    {
     "name": "stdout",
     "output_type": "stream",
     "text": [
      "https://d7hftxdivxxvm.cloudfront.net?resize_to=fill&width=100&height=100&quality=80&src=https%3A%2F%2Fd32dm0rphc51dk.cloudfront.net%2Fm350fgGreLpekvS8NYqa3A%2Flarge.jpg\n",
      "https://d7hftxdivxxvm.cloudfront.net?resize_to=fill&width=325&height=244&quality=80&src=https%3A%2F%2Fd32dm0rphc51dk.cloudfront.net%2FOS1wdHd6B9g_JMSH-iL5og%2Flarge.jpg\n",
      "https://d7hftxdivxxvm.cloudfront.net?resize_to=fit&src=https%3A%2F%2Fd32dm0rphc51dk.cloudfront.net%2FJMjhcmyjveYjvnzU7mqENA%2Flarge.jpg&width=445&height=367&quality=80\n",
      "https://d7hftxdivxxvm.cloudfront.net?resize_to=fit&src=https%3A%2F%2Fd32dm0rphc51dk.cloudfront.net%2F0maj5FEy8TiK28crYzzsjg%2Flarge.jpg&width=445&height=347&quality=80\n",
      "https://d7hftxdivxxvm.cloudfront.net?resize_to=fit&src=https%3A%2F%2Fd32dm0rphc51dk.cloudfront.net%2FIfSVSviY6HcG6X6Xot45-w%2Flarge.jpg&width=445&height=353&quality=80\n",
      "https://d7hftxdivxxvm.cloudfront.net?resize_to=fit&src=https%3A%2F%2Fd32dm0rphc51dk.cloudfront.net%2FizE0qy-C1BYp1yMronEoGw%2Flarge.jpg&width=445&height=549&quality=80\n",
      "https://d7hftxdivxxvm.cloudfront.net?resize_to=fit&src=https%3A%2F%2Fd32dm0rphc51dk.cloudfront.net%2F28FnG5WpKv4wR9TWlYet8Q%2Flarge.jpg&width=445&height=373&quality=80\n",
      "https://d7hftxdivxxvm.cloudfront.net?resize_to=fit&src=https%3A%2F%2Fd32dm0rphc51dk.cloudfront.net%2F-282nl17iCFxDOxfB7fbeA%2Flarge.jpg&width=445&height=373&quality=80\n",
      "https://d7hftxdivxxvm.cloudfront.net?resize_to=fit&src=https%3A%2F%2Fd32dm0rphc51dk.cloudfront.net%2Fk37267Byz06C0v7cUPTqTQ%2Flarge.jpg&width=445&height=364&quality=80\n",
      "https://d7hftxdivxxvm.cloudfront.net?resize_to=fit&src=https%3A%2F%2Fd32dm0rphc51dk.cloudfront.net%2FNyxhaTnHfOTkGyP8b5VSxg%2Flarge.jpg&width=445&height=329&quality=80\n",
      "https://d7hftxdivxxvm.cloudfront.net?resize_to=fit&src=https%3A%2F%2Fd32dm0rphc51dk.cloudfront.net%2Fm9GUVaAB_JfkrVBqlUzzKQ%2Flarge.jpg&width=445&height=695&quality=80\n",
      "https://d7hftxdivxxvm.cloudfront.net?resize_to=fit&src=https%3A%2F%2Fd32dm0rphc51dk.cloudfront.net%2FTwn46M_VFtytH7xCujgHDg%2Flarge.jpg&width=445&height=593&quality=80\n",
      "https://d7hftxdivxxvm.cloudfront.net?resize_to=fit&src=https%3A%2F%2Fd32dm0rphc51dk.cloudfront.net%2Fa_gFqgp4KsXfYYIy9tLXcg%2Flarge.jpg&width=445&height=339&quality=80\n",
      "https://d7hftxdivxxvm.cloudfront.net?resize_to=fit&src=https%3A%2F%2Fd32dm0rphc51dk.cloudfront.net%2FVHfdzzYwueYCbKhKZOisDg%2Flarge.jpg&width=445&height=377&quality=80\n",
      "https://d7hftxdivxxvm.cloudfront.net?resize_to=fill&src=https%3A%2F%2Fd32dm0rphc51dk.cloudfront.net%2FtdKHm2Z79aHuf6rAaV1ybw%2Flarge.jpg&width=445&height=445&quality=80\n",
      "https://d7hftxdivxxvm.cloudfront.net?resize_to=fit&src=https%3A%2F%2Fd32dm0rphc51dk.cloudfront.net%2FBz-Ni1P_qPT87frGQSr0cg%2Flarge.jpg&width=445&height=367&quality=80\n",
      "https://d7hftxdivxxvm.cloudfront.net?resize_to=fit&src=https%3A%2F%2Fd32dm0rphc51dk.cloudfront.net%2FhtW2B5BaiZSYTCPHEJd6pA%2Flarge.jpg&width=445&height=593&quality=80\n",
      "https://d7hftxdivxxvm.cloudfront.net?resize_to=fit&src=https%3A%2F%2Fd32dm0rphc51dk.cloudfront.net%2Fv8pvm7NZQqOPOC7MOdudHQ%2Flarge.jpg&width=445&height=304&quality=80\n",
      "https://d7hftxdivxxvm.cloudfront.net?resize_to=fit&src=https%3A%2F%2Fd32dm0rphc51dk.cloudfront.net%2FHqCR_xExNcnAlaeqNAaciA%2Flarge.jpg&width=445&height=288&quality=80\n",
      "https://d7hftxdivxxvm.cloudfront.net?resize_to=fit&src=https%3A%2F%2Fd32dm0rphc51dk.cloudfront.net%2F_vQ-CM3BYYX_1Nxbsypz4g%2Flarge.jpg&width=445&height=373&quality=80\n",
      "https://d7hftxdivxxvm.cloudfront.net?resize_to=fit&src=https%3A%2F%2Fd32dm0rphc51dk.cloudfront.net%2FgR_OupISEacXE0Rs0ZDupg%2Flarge.jpg&width=445&height=373&quality=80\n",
      "https://d7hftxdivxxvm.cloudfront.net?resize_to=fit&src=https%3A%2F%2Fd32dm0rphc51dk.cloudfront.net%2Fb58O-znMEvsK9_DMh3euEg%2Flarge.jpg&width=445&height=373&quality=80\n",
      "https://d7hftxdivxxvm.cloudfront.net?resize_to=fit&src=https%3A%2F%2Fd32dm0rphc51dk.cloudfront.net%2FBXjDMRY909nzfOCCUHb6Kw%2Flarge.jpg&width=445&height=309&quality=80\n",
      "https://d7hftxdivxxvm.cloudfront.net?resize_to=fit&src=https%3A%2F%2Fd32dm0rphc51dk.cloudfront.net%2FxUnq_Q08FyY7jQ8hkWNmkA%2Flarge.jpg&width=445&height=695&quality=80\n",
      "https://d7hftxdivxxvm.cloudfront.net?resize_to=fit&src=https%3A%2F%2Fd32dm0rphc51dk.cloudfront.net%2FMebZHTIjFPeuYLmPjlaIpw%2Flarge.jpg&width=445&height=380&quality=80\n",
      "https://d7hftxdivxxvm.cloudfront.net?resize_to=fit&src=https%3A%2F%2Fd32dm0rphc51dk.cloudfront.net%2Fzk3hRJ4db4A4tZTwPG5DGg%2Flarge.jpg&width=445&height=367&quality=80\n",
      "https://d7hftxdivxxvm.cloudfront.net?resize_to=fit&src=https%3A%2F%2Fd32dm0rphc51dk.cloudfront.net%2FsVNWpKNaVEkOP166XXfQ9g%2Flarge.jpg&width=445&height=364&quality=80\n",
      "https://d7hftxdivxxvm.cloudfront.net?resize_to=fit&src=https%3A%2F%2Fd32dm0rphc51dk.cloudfront.net%2Fkain7HXikmro_mAxwVHZjw%2Flarge.jpg&width=445&height=342&quality=80\n",
      "https://d7hftxdivxxvm.cloudfront.net?resize_to=fit&src=https%3A%2F%2Fd32dm0rphc51dk.cloudfront.net%2FHV7yFVA3uhagLrnsWH2u_w%2Flarge.jpg&width=445&height=347&quality=80\n",
      "https://d7hftxdivxxvm.cloudfront.net?resize_to=fit&src=https%3A%2F%2Fd32dm0rphc51dk.cloudfront.net%2F6KEE41vEYG8DO3PZeK-Yzg%2Flarge.jpg&width=445&height=358&quality=80\n",
      "https://d7hftxdivxxvm.cloudfront.net?resize_to=fit&src=https%3A%2F%2Fd32dm0rphc51dk.cloudfront.net%2FqX_Q4p3w4TcdkAITMmBpsg%2Flarge.jpg&width=445&height=364&quality=80\n",
      "https://d7hftxdivxxvm.cloudfront.net?resize_to=fit&src=https%3A%2F%2Fd32dm0rphc51dk.cloudfront.net%2FEn96KVFSMpihG6DBjV9__w%2Flarge.jpg&width=445&height=329&quality=80\n",
      "https://d7hftxdivxxvm.cloudfront.net?resize_to=fit&src=https%3A%2F%2Fd32dm0rphc51dk.cloudfront.net%2FJMjhcmyjveYjvnzU7mqENA%2Flarge.jpg&width=445&height=367&quality=80\n",
      "https://d7hftxdivxxvm.cloudfront.net?resize_to=fit&src=https%3A%2F%2Fd32dm0rphc51dk.cloudfront.net%2F0maj5FEy8TiK28crYzzsjg%2Flarge.jpg&width=445&height=347&quality=80\n",
      "https://d7hftxdivxxvm.cloudfront.net?resize_to=fit&src=https%3A%2F%2Fd32dm0rphc51dk.cloudfront.net%2FIfSVSviY6HcG6X6Xot45-w%2Flarge.jpg&width=445&height=353&quality=80\n",
      "https://d7hftxdivxxvm.cloudfront.net?resize_to=fit&src=https%3A%2F%2Fd32dm0rphc51dk.cloudfront.net%2FizE0qy-C1BYp1yMronEoGw%2Flarge.jpg&width=445&height=549&quality=80\n",
      "https://d7hftxdivxxvm.cloudfront.net?resize_to=fit&src=https%3A%2F%2Fd32dm0rphc51dk.cloudfront.net%2F28FnG5WpKv4wR9TWlYet8Q%2Flarge.jpg&width=445&height=373&quality=80\n",
      "https://d7hftxdivxxvm.cloudfront.net?resize_to=fit&src=https%3A%2F%2Fd32dm0rphc51dk.cloudfront.net%2F-282nl17iCFxDOxfB7fbeA%2Flarge.jpg&width=445&height=373&quality=80\n",
      "https://d7hftxdivxxvm.cloudfront.net?resize_to=fit&src=https%3A%2F%2Fd32dm0rphc51dk.cloudfront.net%2Fk37267Byz06C0v7cUPTqTQ%2Flarge.jpg&width=445&height=364&quality=80\n",
      "https://d7hftxdivxxvm.cloudfront.net?resize_to=fit&src=https%3A%2F%2Fd32dm0rphc51dk.cloudfront.net%2FNyxhaTnHfOTkGyP8b5VSxg%2Flarge.jpg&width=445&height=329&quality=80\n",
      "https://d7hftxdivxxvm.cloudfront.net?resize_to=fit&src=https%3A%2F%2Fd32dm0rphc51dk.cloudfront.net%2Fm9GUVaAB_JfkrVBqlUzzKQ%2Flarge.jpg&width=445&height=695&quality=80\n",
      "https://d7hftxdivxxvm.cloudfront.net?resize_to=fit&src=https%3A%2F%2Fd32dm0rphc51dk.cloudfront.net%2FTwn46M_VFtytH7xCujgHDg%2Flarge.jpg&width=445&height=593&quality=80\n",
      "https://d7hftxdivxxvm.cloudfront.net?resize_to=fit&src=https%3A%2F%2Fd32dm0rphc51dk.cloudfront.net%2Fa_gFqgp4KsXfYYIy9tLXcg%2Flarge.jpg&width=445&height=339&quality=80\n",
      "https://d7hftxdivxxvm.cloudfront.net?resize_to=fit&src=https%3A%2F%2Fd32dm0rphc51dk.cloudfront.net%2FVHfdzzYwueYCbKhKZOisDg%2Flarge.jpg&width=445&height=377&quality=80\n",
      "https://d7hftxdivxxvm.cloudfront.net?resize_to=fill&src=https%3A%2F%2Fd32dm0rphc51dk.cloudfront.net%2FtdKHm2Z79aHuf6rAaV1ybw%2Flarge.jpg&width=445&height=445&quality=80\n",
      "https://d7hftxdivxxvm.cloudfront.net?resize_to=fit&src=https%3A%2F%2Fd32dm0rphc51dk.cloudfront.net%2FBz-Ni1P_qPT87frGQSr0cg%2Flarge.jpg&width=445&height=367&quality=80\n",
      "https://d7hftxdivxxvm.cloudfront.net?resize_to=fit&src=https%3A%2F%2Fd32dm0rphc51dk.cloudfront.net%2FhtW2B5BaiZSYTCPHEJd6pA%2Flarge.jpg&width=445&height=593&quality=80\n",
      "https://d7hftxdivxxvm.cloudfront.net?resize_to=fit&src=https%3A%2F%2Fd32dm0rphc51dk.cloudfront.net%2Fv8pvm7NZQqOPOC7MOdudHQ%2Flarge.jpg&width=445&height=304&quality=80\n",
      "https://d7hftxdivxxvm.cloudfront.net?resize_to=fit&src=https%3A%2F%2Fd32dm0rphc51dk.cloudfront.net%2FHqCR_xExNcnAlaeqNAaciA%2Flarge.jpg&width=445&height=288&quality=80\n",
      "https://d7hftxdivxxvm.cloudfront.net?resize_to=fit&src=https%3A%2F%2Fd32dm0rphc51dk.cloudfront.net%2F_vQ-CM3BYYX_1Nxbsypz4g%2Flarge.jpg&width=445&height=373&quality=80\n",
      "https://d7hftxdivxxvm.cloudfront.net?resize_to=fit&src=https%3A%2F%2Fd32dm0rphc51dk.cloudfront.net%2FgR_OupISEacXE0Rs0ZDupg%2Flarge.jpg&width=445&height=373&quality=80\n",
      "https://d7hftxdivxxvm.cloudfront.net?resize_to=fit&src=https%3A%2F%2Fd32dm0rphc51dk.cloudfront.net%2Fb58O-znMEvsK9_DMh3euEg%2Flarge.jpg&width=445&height=373&quality=80\n",
      "https://d7hftxdivxxvm.cloudfront.net?resize_to=fit&src=https%3A%2F%2Fd32dm0rphc51dk.cloudfront.net%2FBXjDMRY909nzfOCCUHb6Kw%2Flarge.jpg&width=445&height=309&quality=80\n",
      "https://d7hftxdivxxvm.cloudfront.net?resize_to=fit&src=https%3A%2F%2Fd32dm0rphc51dk.cloudfront.net%2FxUnq_Q08FyY7jQ8hkWNmkA%2Flarge.jpg&width=445&height=695&quality=80\n",
      "https://d7hftxdivxxvm.cloudfront.net?resize_to=fit&src=https%3A%2F%2Fd32dm0rphc51dk.cloudfront.net%2FMebZHTIjFPeuYLmPjlaIpw%2Flarge.jpg&width=445&height=380&quality=80\n",
      "https://d7hftxdivxxvm.cloudfront.net?resize_to=fit&src=https%3A%2F%2Fd32dm0rphc51dk.cloudfront.net%2Fzk3hRJ4db4A4tZTwPG5DGg%2Flarge.jpg&width=445&height=367&quality=80\n",
      "https://d7hftxdivxxvm.cloudfront.net?resize_to=fit&src=https%3A%2F%2Fd32dm0rphc51dk.cloudfront.net%2FsVNWpKNaVEkOP166XXfQ9g%2Flarge.jpg&width=445&height=364&quality=80\n",
      "https://d7hftxdivxxvm.cloudfront.net?resize_to=fit&src=https%3A%2F%2Fd32dm0rphc51dk.cloudfront.net%2Fkain7HXikmro_mAxwVHZjw%2Flarge.jpg&width=445&height=342&quality=80\n",
      "https://d7hftxdivxxvm.cloudfront.net?resize_to=fit&src=https%3A%2F%2Fd32dm0rphc51dk.cloudfront.net%2FHV7yFVA3uhagLrnsWH2u_w%2Flarge.jpg&width=445&height=347&quality=80\n",
      "https://d7hftxdivxxvm.cloudfront.net?resize_to=fit&src=https%3A%2F%2Fd32dm0rphc51dk.cloudfront.net%2F6KEE41vEYG8DO3PZeK-Yzg%2Flarge.jpg&width=445&height=358&quality=80\n",
      "https://d7hftxdivxxvm.cloudfront.net?resize_to=fit&src=https%3A%2F%2Fd32dm0rphc51dk.cloudfront.net%2FqX_Q4p3w4TcdkAITMmBpsg%2Flarge.jpg&width=445&height=364&quality=80\n",
      "https://d7hftxdivxxvm.cloudfront.net?resize_to=fit&src=https%3A%2F%2Fd32dm0rphc51dk.cloudfront.net%2FEn96KVFSMpihG6DBjV9__w%2Flarge.jpg&width=445&height=329&quality=80\n",
      "https://d7hftxdivxxvm.cloudfront.net?resize_to=fit&src=https%3A%2F%2Fd32dm0rphc51dk.cloudfront.net%2FJMjhcmyjveYjvnzU7mqENA%2Flarge.jpg&width=445&height=367&quality=80\n",
      "https://d7hftxdivxxvm.cloudfront.net?resize_to=fit&src=https%3A%2F%2Fd32dm0rphc51dk.cloudfront.net%2FIfSVSviY6HcG6X6Xot45-w%2Flarge.jpg&width=445&height=353&quality=80\n",
      "https://d7hftxdivxxvm.cloudfront.net?resize_to=fit&src=https%3A%2F%2Fd32dm0rphc51dk.cloudfront.net%2F_vQ-CM3BYYX_1Nxbsypz4g%2Flarge.jpg&width=445&height=373&quality=80\n",
      "https://d7hftxdivxxvm.cloudfront.net?resize_to=fit&src=https%3A%2F%2Fd32dm0rphc51dk.cloudfront.net%2F28FnG5WpKv4wR9TWlYet8Q%2Flarge.jpg&width=445&height=373&quality=80\n",
      "https://d7hftxdivxxvm.cloudfront.net?resize_to=fit&src=https%3A%2F%2Fd32dm0rphc51dk.cloudfront.net%2FBXjDMRY909nzfOCCUHb6Kw%2Flarge.jpg&width=445&height=309&quality=80\n",
      "https://d7hftxdivxxvm.cloudfront.net?resize_to=fit&src=https%3A%2F%2Fd32dm0rphc51dk.cloudfront.net%2FNyxhaTnHfOTkGyP8b5VSxg%2Flarge.jpg&width=445&height=329&quality=80\n",
      "https://d7hftxdivxxvm.cloudfront.net?resize_to=fit&src=https%3A%2F%2Fd32dm0rphc51dk.cloudfront.net%2FMebZHTIjFPeuYLmPjlaIpw%2Flarge.jpg&width=445&height=380&quality=80\n",
      "https://d7hftxdivxxvm.cloudfront.net?resize_to=fit&src=https%3A%2F%2Fd32dm0rphc51dk.cloudfront.net%2FTwn46M_VFtytH7xCujgHDg%2Flarge.jpg&width=445&height=593&quality=80\n",
      "https://d7hftxdivxxvm.cloudfront.net?resize_to=fit&src=https%3A%2F%2Fd32dm0rphc51dk.cloudfront.net%2FHV7yFVA3uhagLrnsWH2u_w%2Flarge.jpg&width=445&height=347&quality=80\n",
      "https://d7hftxdivxxvm.cloudfront.net?resize_to=fit&src=https%3A%2F%2Fd32dm0rphc51dk.cloudfront.net%2FqX_Q4p3w4TcdkAITMmBpsg%2Flarge.jpg&width=445&height=364&quality=80\n",
      "https://d7hftxdivxxvm.cloudfront.net?resize_to=fit&src=https%3A%2F%2Fd32dm0rphc51dk.cloudfront.net%2FhtW2B5BaiZSYTCPHEJd6pA%2Flarge.jpg&width=445&height=593&quality=80\n",
      "https://d7hftxdivxxvm.cloudfront.net?resize_to=fit&src=https%3A%2F%2Fd32dm0rphc51dk.cloudfront.net%2FHqCR_xExNcnAlaeqNAaciA%2Flarge.jpg&width=445&height=288&quality=80\n",
      "https://d7hftxdivxxvm.cloudfront.net?resize_to=fit&src=https%3A%2F%2Fd32dm0rphc51dk.cloudfront.net%2FgR_OupISEacXE0Rs0ZDupg%2Flarge.jpg&width=445&height=373&quality=80\n",
      "https://d7hftxdivxxvm.cloudfront.net?resize_to=fit&src=https%3A%2F%2Fd32dm0rphc51dk.cloudfront.net%2F-282nl17iCFxDOxfB7fbeA%2Flarge.jpg&width=445&height=373&quality=80\n",
      "https://d7hftxdivxxvm.cloudfront.net?resize_to=fit&src=https%3A%2F%2Fd32dm0rphc51dk.cloudfront.net%2FxUnq_Q08FyY7jQ8hkWNmkA%2Flarge.jpg&width=445&height=695&quality=80\n",
      "https://d7hftxdivxxvm.cloudfront.net?resize_to=fit&src=https%3A%2F%2Fd32dm0rphc51dk.cloudfront.net%2Fzk3hRJ4db4A4tZTwPG5DGg%2Flarge.jpg&width=445&height=367&quality=80\n",
      "https://d7hftxdivxxvm.cloudfront.net?resize_to=fit&src=https%3A%2F%2Fd32dm0rphc51dk.cloudfront.net%2Fa_gFqgp4KsXfYYIy9tLXcg%2Flarge.jpg&width=445&height=339&quality=80\n",
      "https://d7hftxdivxxvm.cloudfront.net?resize_to=fit&src=https%3A%2F%2Fd32dm0rphc51dk.cloudfront.net%2FVHfdzzYwueYCbKhKZOisDg%2Flarge.jpg&width=445&height=377&quality=80\n",
      "https://d7hftxdivxxvm.cloudfront.net?resize_to=fit&src=https%3A%2F%2Fd32dm0rphc51dk.cloudfront.net%2F6KEE41vEYG8DO3PZeK-Yzg%2Flarge.jpg&width=445&height=358&quality=80\n",
      "https://d7hftxdivxxvm.cloudfront.net?resize_to=fit&src=https%3A%2F%2Fd32dm0rphc51dk.cloudfront.net%2FBz-Ni1P_qPT87frGQSr0cg%2Flarge.jpg&width=445&height=367&quality=80\n",
      "https://d7hftxdivxxvm.cloudfront.net?resize_to=fit&src=https%3A%2F%2Fd32dm0rphc51dk.cloudfront.net%2F0maj5FEy8TiK28crYzzsjg%2Flarge.jpg&width=445&height=347&quality=80\n",
      "https://d7hftxdivxxvm.cloudfront.net?resize_to=fit&src=https%3A%2F%2Fd32dm0rphc51dk.cloudfront.net%2Fv8pvm7NZQqOPOC7MOdudHQ%2Flarge.jpg&width=445&height=304&quality=80\n",
      "https://d7hftxdivxxvm.cloudfront.net?resize_to=fit&src=https%3A%2F%2Fd32dm0rphc51dk.cloudfront.net%2FizE0qy-C1BYp1yMronEoGw%2Flarge.jpg&width=445&height=549&quality=80\n",
      "https://d7hftxdivxxvm.cloudfront.net?resize_to=fit&src=https%3A%2F%2Fd32dm0rphc51dk.cloudfront.net%2Fb58O-znMEvsK9_DMh3euEg%2Flarge.jpg&width=445&height=373&quality=80\n",
      "https://d7hftxdivxxvm.cloudfront.net?resize_to=fit&src=https%3A%2F%2Fd32dm0rphc51dk.cloudfront.net%2Fk37267Byz06C0v7cUPTqTQ%2Flarge.jpg&width=445&height=364&quality=80\n",
      "https://d7hftxdivxxvm.cloudfront.net?resize_to=fit&src=https%3A%2F%2Fd32dm0rphc51dk.cloudfront.net%2Fm9GUVaAB_JfkrVBqlUzzKQ%2Flarge.jpg&width=445&height=695&quality=80\n",
      "https://d7hftxdivxxvm.cloudfront.net?resize_to=fit&src=https%3A%2F%2Fd32dm0rphc51dk.cloudfront.net%2FsVNWpKNaVEkOP166XXfQ9g%2Flarge.jpg&width=445&height=364&quality=80\n",
      "https://d7hftxdivxxvm.cloudfront.net?resize_to=fit&src=https%3A%2F%2Fd32dm0rphc51dk.cloudfront.net%2Fkain7HXikmro_mAxwVHZjw%2Flarge.jpg&width=445&height=342&quality=80\n",
      "https://d7hftxdivxxvm.cloudfront.net?resize_to=fill&src=https%3A%2F%2Fd32dm0rphc51dk.cloudfront.net%2FtdKHm2Z79aHuf6rAaV1ybw%2Flarge.jpg&width=445&height=445&quality=80\n",
      "https://d7hftxdivxxvm.cloudfront.net?resize_to=fit&src=https%3A%2F%2Fd32dm0rphc51dk.cloudfront.net%2FEn96KVFSMpihG6DBjV9__w%2Flarge.jpg&width=445&height=329&quality=80\n",
      "https://files.artsy.net/images/App Download_iOS-1656079682156.png\n",
      "https://files.artsy.net/images/App Download_Google Play-1656079682114.png\n",
      "https://d7hftxdivxxvm.cloudfront.net?resize_to=width&src=https%3A%2F%2Ffiles.artsy.net%2Fimages%2FApp%20Download%20Banner_1200x2440_2x-1656078840527.png&width=725&quality=50\n",
      "https://d7hftxdivxxvm.cloudfront.net?resize_to=width&src=https%3A%2F%2Ffiles.artsy.net%2Fimages%2FApp%20Download%20Banner_1200x2440_2x-1656078840527.png&width=1220&quality=50\n"
     ]
    }
   ],
   "source": [
    "for item in julie_soup.find_all('img'):\n",
    "    print(item['src'])"
   ]
  },
  {
   "cell_type": "code",
   "execution_count": 6,
   "id": "5fd33764",
   "metadata": {},
   "outputs": [
    {
     "name": "stdout",
     "output_type": "stream",
     "text": [
      "<title>Collection | Whitney Museum of American Art</title>\n",
      "https://whitneymedia.org/assets/artwork/65565/T_2021_15.jpeg\n",
      "https://whitneymedia.org/assets/artwork/65964/T_2022_805_1.jpeg\n",
      "https://whitneymedia.org/assets/artwork/65965/T_2022_806_1.jpeg\n",
      "https://whitneymedia.org/assets/artwork/65960/T_2022_804_1.jpeg\n",
      "https://whitneymedia.org/assets/artwork/65159/P_2021_6a-b.jpeg\n",
      "https://whitneymedia.org/assets/artwork/65207/T_2021_620_1.jpeg\n",
      "https://whitneymedia.org/assets/artwork/65311/T_2021_864_1.jpeg\n",
      "https://whitneymedia.org/assets/artwork/65014/2021_125_cropped.jpeg\n",
      "https://whitneymedia.org/assets/artwork/64833/T_2021_3.jpeg\n",
      "https://whitneymedia.org/assets/artwork/65206/T_2021_619_1.jpeg\n",
      "https://whitneymedia.org/assets/artwork/65017/T_2021_615_1.jpeg\n",
      "https://whitneymedia.org/assets/artwork/64322/T_2021_105_1.jpeg\n",
      "https://whitneymedia.org/assets/artwork/64323/T_2021_106_1.jpeg\n",
      "https://whitneymedia.org/assets/artwork/64259/T_2020_319a_hhh_2.jpeg\n",
      "https://whitneymedia.org/assets/artwork/64298/P_2021_5a-b_cropped.jpeg\n",
      "https://whitneymedia.org/assets/artwork/63814/T_2020_2updated.jpeg\n",
      "https://whitneymedia.org/assets/artwork/64237/P_2020_25_cropped.jpeg\n",
      "https://whitneymedia.org/assets/artwork/64992/P_2021_7_cropped.jpeg\n",
      "https://whitneymedia.org/assets/artwork/64307/2021_61_cropped.jpeg\n",
      "https://whitneymedia.org/assets/artwork/64293/2021_116_vw3_cropped.jpeg\n",
      "https://whitneymedia.org/assets/artwork/64310/T_2021_602_1.jpeg\n",
      "https://whitneymedia.org/assets/artwork/64950/2021_72_cropped.jpeg\n",
      "https://whitneymedia.org/assets/artwork/64949/2021_71_cropped.jpeg\n",
      "https://whitneymedia.org/assets/artwork/65005/2021_73a-c_cropped.jpeg\n",
      "https://whitneymedia.org/assets/artwork/64233/P_2021_4_cropped.jpeg\n",
      "https://whitneymedia.org/assets/artwork/64038/2020_147_cropped.jpeg\n",
      "https://whitneymedia.org/assets/artwork/64235/T_2020_317_1.jpeg\n",
      "https://whitneymedia.org/assets/artwork/63496/2020_161a-j_cropped.jpeg\n",
      "https://whitneymedia.org/assets/artwork/65150/TOURMALINE_Mary_Of__Ill_Fame_1.jpeg\n",
      "https://whitneymedia.org/assets/artwork/64265/2021_31_cropped.jpeg\n"
     ]
    }
   ],
   "source": [
    "url = 'https://whitney.org/collection/works?q%5Bhas_image_true%5D=1'\n",
    "response = requests.get(url)\n",
    "whitney_soup = BeautifulSoup(response.text, 'html.parser')\n",
    "print(whitney_soup.title)\n",
    "for item in whitney_soup.find_all('img'):\n",
    "    print(item['src'])"
   ]
  },
  {
   "cell_type": "code",
   "execution_count": 7,
   "id": "e45a7818",
   "metadata": {},
   "outputs": [
    {
     "name": "stdout",
     "output_type": "stream",
     "text": [
      "<title>Artworks | Robert Rauschenberg Foundation</title>\n",
      "/themes/custom/art/logo.png\n",
      "/sites/default/files/styles/media_library/public/2021-07/58.D014_00.jpg?itok=BATv7w7D\n",
      "/sites/default/files/styles/media_library/public/2021-07/58.D029_00.jpg?itok=TPEj6267\n",
      "/sites/default/files/styles/media_library/public/2022-05/60.001_00.jpg?itok=kjCK41PB\n",
      "/sites/default/files/styles/media_library/public/2021-07/59.011_00.jpg?itok=6FQXW0gg\n",
      "/sites/default/files/styles/media_library/public/2022-06/59.021_00.jpg?itok=bqiWRTuV\n",
      "/sites/default/files/styles/media_library/public/2022-06/59.014_00.jpg?itok=9z8oE428\n",
      "/sites/default/files/styles/media_library/public/2022-07/60.D009_00.jpg?itok=Wm-RZn7s\n",
      "/sites/default/files/styles/media_library/public/2021-06/60.D007_00.jpg?itok=hhuG4z9p\n",
      "/sites/default/files/styles/media_library/public/2022-07/60.D008_00.jpg?itok=Jtcc030z\n",
      "/sites/default/files/styles/media_library/public/2022-07/60.D010_00.jpg?itok=QT7DPufP\n",
      "/sites/default/files/styles/media_library/public/2022-07/60.D011_00.jpg?itok=oYkas6jH\n",
      "/sites/default/files/styles/media_library/public/2022-07/60.D012_00.jpg?itok=yU5XzDCz\n",
      "/sites/default/files/styles/media_library/public/2022-07/60.D013_00.jpg?itok=T1QX7LQU\n",
      "/sites/default/files/styles/media_library/public/2022-09/60.D014_00.jpg?itok=rzT58YKO\n",
      "/sites/default/files/styles/media_library/public/2022-07/60.D019_00.jpg?itok=KHsH5dF4\n",
      "/sites/default/files/styles/media_library/public/2022-07/60.D015_00.jpg?itok=8elnAjcd\n",
      "/sites/default/files/styles/media_library/public/2022-07/60.D016_00.jpg?itok=u9x1itlM\n",
      "/sites/default/files/styles/media_library/public/2022-07/60.D017_00.jpg?itok=OIZsIVh7\n",
      "/sites/default/files/styles/media_library/public/2022-07/60.D018_00.jpg?itok=5rmXGWG_\n",
      "/sites/default/files/styles/media_library/public/2022-07/60.D020_00.jpg?itok=jQB5DMhu\n",
      "/sites/default/files/styles/media_library/public/2022-07/60.D021_00.jpg?itok=pVEkDxHA\n",
      "/sites/default/files/styles/media_library/public/2022-07/60.D022_00.jpg?itok=Wm0t-sgQ\n",
      "/sites/default/files/styles/media_library/public/2022-07/60.D023_00.jpg?itok=Bv_C5yal\n",
      "/sites/default/files/styles/media_library/public/2021-06/60.D024_00.jpg?itok=A2LPC8UL\n",
      "/sites/default/files/styles/media_library/public/2021-06/60.D029_00.jpg?itok=wCOL4hpH\n",
      "/sites/default/files/styles/media_library/public/2021-06/60.D025_00.jpg?itok=hOs0j7Wz\n",
      "/sites/default/files/styles/media_library/public/2021-06/60.D026_00.jpg?itok=DnjT_zom\n",
      "/sites/default/files/styles/media_library/public/2022-07/60.D027_00.jpg?itok=JXuk3MmH\n",
      "/sites/default/files/styles/media_library/public/2021-06/60.D028_00.jpg?itok=uxXh6LXn\n",
      "/sites/default/files/styles/media_library/public/2021-06/60.D030_00.jpg?itok=LBaBc2YZ\n",
      "/sites/default/files/styles/media_library/public/2022-07/60.D031_00.jpg?itok=k47ONveg\n",
      "/sites/default/files/styles/media_library/public/2022-07/60.D032_00.jpg?itok=RjvSopd7\n",
      "/sites/default/files/styles/media_library/public/2022-07/60.D033_00.jpg?itok=_ep2yBFf\n",
      "/sites/default/files/styles/media_library/public/2022-07/60.D034_00.jpg?itok=K9cZe4q3\n",
      "/sites/default/files/styles/media_library/public/2022-05/59.008_00.jpg?itok=EHQuxW6i\n",
      "/sites/default/files/styles/media_library/public/2021-12/59.D001_00.jpg?itok=--S5dFfC\n",
      "/sites/default/files/styles/media_library/public/2022-06/59.016_00.jpg?itok=ebtjOHfd\n",
      "/sites/default/files/styles/media_library/public/2022-05/59.003_00.jpg?itok=6O8o0zET\n",
      "/sites/default/files/styles/media_library/public/2021-07/59.019_00.jpg?itok=54nq407P\n",
      "/sites/default/files/styles/media_library/public/2021-07/59.028_00.jpg?itok=dgZ_UU0Y\n",
      "/sites/default/files/styles/media_library/public/2021-07/59.D002_00.jpg?itok=gIY0_yIH\n",
      "/sites/default/files/styles/media_library/public/2022-09/59.012_00.jpg?itok=lfI0V0zS\n",
      "/sites/default/files/styles/media_library/public/2021-07/59.007_00.jpg?itok=oe61pRqR\n",
      "/sites/default/files/styles/media_library/public/2022-09/59.017_00.jpg?itok=JgugVz_1\n",
      "/sites/default/files/styles/media_library/public/2021-07/59.004_00.jpg?itok=eWDdcNMa\n",
      "/sites/default/files/styles/media_library/public/2022-04/59.020_00.jpg?itok=hcea11Fp\n",
      "/sites/default/files/styles/media_library/public/2022-06/59.002_00.jpg?itok=FLL9A8qW\n",
      "/sites/default/files/styles/media_library/public/2021-11/59.D005_00.jpg?itok=u_8C0xdM\n",
      "/sites/default/files/styles/media_library/public/2021-07/59.005_00.jpg?itok=RxGjNze3\n",
      "/sites/default/files/styles/media_library/public/2022-04/59.018_00.jpg?itok=F_6DOu8l\n"
     ]
    }
   ],
   "source": [
    "url = 'https://www.rauschenbergfoundation.org/art/search-artwork?search_text=&start_date=&end_date=&page=3'\n",
    "response = requests.get(url)\n",
    "rob_soup = BeautifulSoup(response.text, 'html.parser')\n",
    "print(rob_soup.title)\n",
    "for item in rob_soup.find_all('img'):\n",
    "    print(item['src'])"
   ]
  },
  {
   "cell_type": "code",
   "execution_count": 8,
   "id": "fb865eb4",
   "metadata": {},
   "outputs": [
    {
     "data": {
      "text/plain": [
       "'https://www.rauschenbergfoundation.org/sites/default/files/styles/767x/public/2022-04/60.001_00.jpg'"
      ]
     },
     "execution_count": 8,
     "metadata": {},
     "output_type": "execute_result"
    }
   ],
   "source": [
    "\"https://www.rauschenbergfoundation.org/sites/default/files/styles/767x/public/2022-04/60.001_00.jpg\""
   ]
  },
  {
   "cell_type": "code",
   "execution_count": 9,
   "id": "142312e5",
   "metadata": {},
   "outputs": [
    {
     "name": "stdout",
     "output_type": "stream",
     "text": [
      "Image Couldn't be retreived\n"
     ]
    }
   ],
   "source": [
    "import requests # to get image from the web\n",
    "import shutil # to save it locally\n",
    "\n",
    "## Set up the image URL and filename\n",
    "image_url = \"https://www.rauschenbergfoundation.org/sites/default/files/styles/767x/public/2022-04/60.001_00.jpg\"\n",
    "filename = image_url.split(\"/\")[-1]\n",
    "\n",
    "# Open the url image, set stream to True, this will return the stream content.\n",
    "r = requests.get(image_url, stream = True)\n",
    "\n",
    "# Check if the image was retrieved successfully\n",
    "if r.status_code == 200:\n",
    "    # Set decode_content value to True, otherwise the downloaded image file's size will be zero.\n",
    "    r.raw.decode_content = True\n",
    "    \n",
    "    # Open a local file with wb ( write binary ) permission.\n",
    "    with open(filename,'wb') as f:\n",
    "        shutil.copyfileobj(r.raw, f)\n",
    "        \n",
    "    print('Image sucessfully Downloaded: ',filename)\n",
    "else:\n",
    "    print('Image Couldn\\'t be retreived')"
   ]
  },
  {
   "cell_type": "code",
   "execution_count": null,
   "id": "2b791609",
   "metadata": {},
   "outputs": [],
   "source": []
  }
 ],
 "metadata": {
  "kernelspec": {
   "display_name": "Python 3",
   "language": "python",
   "name": "python3"
  },
  "language_info": {
   "codemirror_mode": {
    "name": "ipython",
    "version": 3
   },
   "file_extension": ".py",
   "mimetype": "text/x-python",
   "name": "python",
   "nbconvert_exporter": "python",
   "pygments_lexer": "ipython3",
   "version": "3.8.8"
  }
 },
 "nbformat": 4,
 "nbformat_minor": 5
}
